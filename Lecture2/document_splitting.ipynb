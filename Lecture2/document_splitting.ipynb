{
 "cells": [
  {
   "cell_type": "code",
   "execution_count": null,
   "id": "19c84fc5",
   "metadata": {},
   "outputs": [],
   "source": [
    "#This code is using the langchain library to split a large text into smaller chunks using two different types of text splitters: RecursiveCharacterTextSplitter and CharacterTextSplitter. These are commonly used in Natural Language Processing tasks, especially \n",
    "# when preparing data for models with token or character input limits.\n",
    "\n",
    "from langchain.text_splitter import RecursiveCharacterTextSplitter,CharacterTextSplitter"
   ]
  },
  {
   "cell_type": "code",
   "execution_count": null,
   "id": "14905c7e",
   "metadata": {},
   "outputs": [],
   "source": [
    "#chunk_size=26\n",
    "#Each chunk of text will have up to 26 characters.\n",
    "#chunk_overlap=4\n",
    "#Each new chunk will overlap the previous one by 4 characters.\n",
    "\n",
    "\n",
    "chunk_size=26\n",
    "chunk_overlap=4"
   ]
  },
  {
   "cell_type": "code",
   "execution_count": 4,
   "id": "378fdd04",
   "metadata": {},
   "outputs": [],
   "source": [
    "#Smarter splitting strategy.\n",
    "\n",
    "#It tries to split on natural boundaries like newlines, punctuation, or spaces before falling back to characters.\n",
    "r_splitter = RecursiveCharacterTextSplitter(\n",
    "    chunk_size=chunk_size,\n",
    "    chunk_overlap=chunk_overlap\n",
    ")\n",
    "#Simpler, more naive.\n",
    "\n",
    "#It splits strictly by character length without regard to sentence structure or punctuation.\n",
    "c_splitter = CharacterTextSplitter(\n",
    "    chunk_size=chunk_size,\n",
    "    chunk_overlap=chunk_overlap\n",
    ")"
   ]
  },
  {
   "cell_type": "code",
   "execution_count": 5,
   "id": "d2a43236",
   "metadata": {},
   "outputs": [],
   "source": [
    "text1 = 'abcdefghijklmnopqrstuvwxyz'"
   ]
  },
  {
   "cell_type": "code",
   "execution_count": null,
   "id": "c30945ed",
   "metadata": {},
   "outputs": [
    {
     "data": {
      "text/plain": [
       "['abcdefghijklmnopqrstuvwxyz']"
      ]
     },
     "execution_count": 6,
     "metadata": {},
     "output_type": "execute_result"
    }
   ],
   "source": [
    "# by using recursive character splitter\n",
    "r_splitter.split_text(text1)"
   ]
  },
  {
   "cell_type": "code",
   "execution_count": 15,
   "id": "5943805b",
   "metadata": {},
   "outputs": [
    {
     "data": {
      "text/plain": [
       "['abcdefghijklmnopqrstuvwxyz']"
      ]
     },
     "execution_count": 15,
     "metadata": {},
     "output_type": "execute_result"
    }
   ],
   "source": [
    "c_splitter.split_text(text1)"
   ]
  },
  {
   "cell_type": "code",
   "execution_count": null,
   "id": "ac4c48b1",
   "metadata": {},
   "outputs": [],
   "source": [
    "#'abcdefghijklmnopqrstuvwxyz' → characters 0–25 (length 26)\n",
    "\n",
    "#'wxyzabcdefg' → starts from index 22 ('w'), and goes to the end (index 33)\n",
    "text2='abcdefghijklmnopqrstuvwxyzabcdefg'"
   ]
  },
  {
   "cell_type": "code",
   "execution_count": null,
   "id": "4eaddc14",
   "metadata": {},
   "outputs": [
    {
     "data": {
      "text/plain": [
       "['abcdefghijklmnopqrstuvwxyz', 'wxyzabcdefg']"
      ]
     },
     "execution_count": 12,
     "metadata": {},
     "output_type": "execute_result"
    }
   ],
   "source": [
    "# by using recursive character splitter\n",
    "r_splitter.split_text(text2)"
   ]
  },
  {
   "cell_type": "code",
   "execution_count": null,
   "id": "80210072",
   "metadata": {},
   "outputs": [
    {
     "data": {
      "text/plain": [
       "['abcdefghijklmnopqrstuvwxyzabcdefg']"
      ]
     },
     "execution_count": 14,
     "metadata": {},
     "output_type": "execute_result"
    }
   ],
   "source": [
    "# by using character splitter\n",
    "c_splitter.split_text(text2)"
   ]
  },
  {
   "cell_type": "code",
   "execution_count": null,
   "id": "e63a68c3",
   "metadata": {},
   "outputs": [],
   "source": [
    "#it have 51 character base on spaces \n",
    "#so first 25 is end on m\n",
    "#then overlap 4 and start this \n",
    "#last will shown\n",
    "\n",
    "text3 = \"a b c d e f g h i j k l m n o p q r s t u v w x y z\""
   ]
  },
  {
   "cell_type": "code",
   "execution_count": null,
   "id": "d4c82bd4",
   "metadata": {},
   "outputs": [
    {
     "data": {
      "text/plain": [
       "['a b c d e f g h i j k l m', 'l m n o p q r s t u v w x', 'w x y z']"
      ]
     },
     "execution_count": 13,
     "metadata": {},
     "output_type": "execute_result"
    }
   ],
   "source": [
    "# by using recursive character splitter\n",
    "r_splitter.split_text(text3)"
   ]
  },
  {
   "cell_type": "code",
   "execution_count": 16,
   "id": "7d999135",
   "metadata": {},
   "outputs": [
    {
     "data": {
      "text/plain": [
       "['a b c d e f g h i j k l m n o p q r s t u v w x y z']"
      ]
     },
     "execution_count": 16,
     "metadata": {},
     "output_type": "execute_result"
    }
   ],
   "source": [
    "# by using  character splitter\n",
    "c_splitter.split_text(text3)"
   ]
  },
  {
   "cell_type": "code",
   "execution_count": null,
   "id": "acf5b6eb",
   "metadata": {},
   "outputs": [
    {
     "data": {
      "text/plain": [
       "['a b c d e f g h i j k l m', 'l m n o p q r s t u v w x', 'w x y z']"
      ]
     },
     "execution_count": 22,
     "metadata": {},
     "output_type": "execute_result"
    }
   ],
   "source": [
    "#put , and also chunk_size,chunk_overlap\n",
    "c_splitter = CharacterTextSplitter(\n",
    "    chunk_size=chunk_size,\n",
    "    chunk_overlap=chunk_overlap,\n",
    "    separator = ' '\n",
    ")\n",
    "c_splitter.split_text(text3)"
   ]
  },
  {
   "cell_type": "code",
   "execution_count": null,
   "id": "a1674ac8",
   "metadata": {},
   "outputs": [
    {
     "data": {
      "text/plain": [
       "487"
      ]
     },
     "execution_count": 26,
     "metadata": {},
     "output_type": "execute_result"
    }
   ],
   "source": [
    "#Recursive splitting details\n",
    "#RecursiveCharacterTextSplitter is recommended for generic text.\n",
    "some_text=\"Lorem ipsum dolor sit amet, consectetur adipiscing elit. Sed do eiusmod tempor incididunt ut labore et dolore magna aliqua. Ut enim ad minim veniam, quis nostrud exercitation ullamco laboris nisi ut aliquip ex ea commodo consequat. Duis aute irure dolor in reprehenderit in voluptate velit esse cillum dolore eu fugiat nulla pariatur. Excepteur sint occaecat cupidatat non proident, sunt in culpa qui officia deserunt mollit anim id est laborum. Curabitur pretium tincidunt lacus. Nulla.\"\n",
    "\n",
    "len(some_text)"
   ]
  },
  {
   "cell_type": "code",
   "execution_count": null,
   "id": "602de169",
   "metadata": {},
   "outputs": [],
   "source": [
    "#CharacterTextSplitter splits by the single chosen separator (' ')\n",
    "\n",
    "#RecursiveCharacterTextSplitter tries a list of fallback strategies (paragraphs → lines → words → characters)\n",
    "c_splitter = CharacterTextSplitter(\n",
    "    chunk_size=450,\n",
    "    chunk_overlap=0,\n",
    "    separator = ' '\n",
    ")\n",
    "r_splitter = RecursiveCharacterTextSplitter(\n",
    "    chunk_size=450,\n",
    "    chunk_overlap=0, \n",
    "    separators=[\"\\n\\n\", \"\\n\", \" \", \"\"]\n",
    ")"
   ]
  },
  {
   "cell_type": "code",
   "execution_count": 28,
   "id": "e2bfb39d",
   "metadata": {},
   "outputs": [
    {
     "data": {
      "text/plain": [
       "['Lorem ipsum dolor sit amet, consectetur adipiscing elit. Sed do eiusmod tempor incididunt ut labore et dolore magna aliqua. Ut enim ad minim veniam, quis nostrud exercitation ullamco laboris nisi ut aliquip ex ea commodo consequat. Duis aute irure dolor in reprehenderit in voluptate velit esse cillum dolore eu fugiat nulla pariatur. Excepteur sint occaecat cupidatat non proident, sunt in culpa qui officia deserunt mollit anim id est laborum.',\n",
       " 'Curabitur pretium tincidunt lacus. Nulla.']"
      ]
     },
     "execution_count": 28,
     "metadata": {},
     "output_type": "execute_result"
    }
   ],
   "source": [
    "c_splitter.split_text(some_text)"
   ]
  },
  {
   "cell_type": "code",
   "execution_count": 29,
   "id": "3012261e",
   "metadata": {},
   "outputs": [
    {
     "data": {
      "text/plain": [
       "['Lorem ipsum dolor sit amet, consectetur adipiscing elit. Sed do eiusmod tempor incididunt ut labore et dolore magna aliqua. Ut enim ad minim veniam, quis nostrud exercitation ullamco laboris nisi ut aliquip ex ea commodo consequat. Duis aute irure dolor in reprehenderit in voluptate velit esse cillum dolore eu fugiat nulla pariatur. Excepteur sint occaecat cupidatat non proident, sunt in culpa qui officia deserunt mollit anim id est laborum.',\n",
       " 'Curabitur pretium tincidunt lacus. Nulla.']"
      ]
     },
     "execution_count": 29,
     "metadata": {},
     "output_type": "execute_result"
    }
   ],
   "source": [
    "r_splitter.split_text(some_text)"
   ]
  },
  {
   "cell_type": "code",
   "execution_count": 30,
   "id": "b32b9865",
   "metadata": {},
   "outputs": [],
   "source": [
    "r_splitter = RecursiveCharacterTextSplitter(\n",
    "    chunk_size=450,\n",
    "    chunk_overlap=0, \n",
    "    separators=[\"\\n\\n\", \"\\n\",\"\\.\", \" \", \"\"]\n",
    ")"
   ]
  },
  {
   "cell_type": "code",
   "execution_count": 31,
   "id": "41035297",
   "metadata": {},
   "outputs": [
    {
     "data": {
      "text/plain": [
       "['Lorem ipsum dolor sit amet, consectetur adipiscing elit. Sed do eiusmod tempor incididunt ut labore et dolore magna aliqua. Ut enim ad minim veniam, quis nostrud exercitation ullamco laboris nisi ut aliquip ex ea commodo consequat. Duis aute irure dolor in reprehenderit in voluptate velit esse cillum dolore eu fugiat nulla pariatur. Excepteur sint occaecat cupidatat non proident, sunt in culpa qui officia deserunt mollit anim id est laborum.',\n",
       " 'Curabitur pretium tincidunt lacus. Nulla.']"
      ]
     },
     "execution_count": 31,
     "metadata": {},
     "output_type": "execute_result"
    }
   ],
   "source": [
    "r_splitter.split_text(some_text)"
   ]
  },
  {
   "cell_type": "code",
   "execution_count": 34,
   "id": "063040bd",
   "metadata": {},
   "outputs": [
    {
     "data": {
      "text/plain": [
       "['Lorem ipsum dolor sit amet, consectetur adipiscing elit. Sed do eiusmod tempor incididunt ut labore et dolore magna aliqua. Ut enim ad minim veniam,',\n",
       " 'quis nostrud exercitation ullamco laboris nisi ut aliquip ex ea commodo consequat. Duis aute irure dolor in reprehenderit in voluptate velit esse',\n",
       " 'cillum dolore eu fugiat nulla pariatur. Excepteur sint occaecat cupidatat non proident, sunt in culpa qui officia deserunt mollit anim id est',\n",
       " 'laborum. Curabitur pretium tincidunt lacus. Nulla.']"
      ]
     },
     "execution_count": 34,
     "metadata": {},
     "output_type": "execute_result"
    }
   ],
   "source": [
    "r_splitter = RecursiveCharacterTextSplitter(\n",
    "    chunk_size=150,\n",
    "    chunk_overlap=0,\n",
    "    separators=[\"\\n\\n\", \"\\n\", \"(?<=\\. )\", \" \", \"\"]\n",
    ")\n",
    "r_splitter.split_text(some_text)"
   ]
  },
  {
   "cell_type": "code",
   "execution_count": 35,
   "id": "282e8332",
   "metadata": {},
   "outputs": [],
   "source": [
    "from langchain.document_loaders import PyPDFLoader\n",
    "#load document\n",
    "loader= PyPDFLoader(r\"F:\\Zain Data\\All programming language\\LangChain\\Biology.pdf\")\n",
    "pages=loader.load()"
   ]
  },
  {
   "cell_type": "code",
   "execution_count": 36,
   "id": "ec0b5c39",
   "metadata": {},
   "outputs": [],
   "source": [
    "from langchain.text_splitter import CharacterTextSplitter\n",
    "text_splitter = CharacterTextSplitter(\n",
    "    separator=\"\\n\",\n",
    "    chunk_size=1000,\n",
    "    chunk_overlap=150,\n",
    "    length_function=len\n",
    ")"
   ]
  },
  {
   "cell_type": "code",
   "execution_count": 37,
   "id": "530852a2",
   "metadata": {},
   "outputs": [],
   "source": [
    "docs=text_splitter.split_documents(pages)"
   ]
  },
  {
   "cell_type": "code",
   "execution_count": null,
   "id": "0a619139",
   "metadata": {},
   "outputs": [
    {
     "data": {
      "text/plain": [
       "148"
      ]
     },
     "execution_count": 38,
     "metadata": {},
     "output_type": "execute_result"
    }
   ],
   "source": [
    "#it means we can divide 34 pages into small chunks\n",
    "len(docs)"
   ]
  },
  {
   "cell_type": "code",
   "execution_count": 41,
   "id": "93b4685d",
   "metadata": {},
   "outputs": [
    {
     "data": {
      "text/plain": [
       "34"
      ]
     },
     "execution_count": 41,
     "metadata": {},
     "output_type": "execute_result"
    }
   ],
   "source": [
    "\n",
    "#34 pages\n",
    "len(pages)"
   ]
  },
  {
   "cell_type": "code",
   "execution_count": null,
   "id": "ea284e8d",
   "metadata": {},
   "outputs": [
    {
     "name": "stdout",
     "output_type": "stream",
     "text": [
      "[Document(metadata={'source': 'F:\\\\Zain Data\\\\All programming language\\\\LangChain\\\\notion\\\\page1.md'}, page_content='# Page 1\\n\\nThis is the content of Notion page 1.\\n\\n## Section\\n\\n- Item A1\\n- Item B1\\n- Item C1'), Document(metadata={'source': 'F:\\\\Zain Data\\\\All programming language\\\\LangChain\\\\notion\\\\page10.md'}, page_content='# Page 10\\n\\nThis is the content of Notion page 10.\\n\\n## Section\\n\\n- Item A10\\n- Item B10\\n- Item C10'), Document(metadata={'source': 'F:\\\\Zain Data\\\\All programming language\\\\LangChain\\\\notion\\\\page11.md'}, page_content='# Page 11\\n\\nThis is the content of Notion page 11.\\n\\n## Section\\n\\n- Item A11\\n- Item B11\\n- Item C11'), Document(metadata={'source': 'F:\\\\Zain Data\\\\All programming language\\\\LangChain\\\\notion\\\\page12.md'}, page_content='# Page 12\\n\\nThis is the content of Notion page 12.\\n\\n## Section\\n\\n- Item A12\\n- Item B12\\n- Item C12'), Document(metadata={'source': 'F:\\\\Zain Data\\\\All programming language\\\\LangChain\\\\notion\\\\page13.md'}, page_content='# Page 13\\n\\nThis is the content of Notion page 13.\\n\\n## Section\\n\\n- Item A13\\n- Item B13\\n- Item C13'), Document(metadata={'source': 'F:\\\\Zain Data\\\\All programming language\\\\LangChain\\\\notion\\\\page14.md'}, page_content='# Page 14\\n\\nThis is the content of Notion page 14.\\n\\n## Section\\n\\n- Item A14\\n- Item B14\\n- Item C14'), Document(metadata={'source': 'F:\\\\Zain Data\\\\All programming language\\\\LangChain\\\\notion\\\\page15.md'}, page_content='# Page 15\\n\\nThis is the content of Notion page 15.\\n\\n## Section\\n\\n- Item A15\\n- Item B15\\n- Item C15'), Document(metadata={'source': 'F:\\\\Zain Data\\\\All programming language\\\\LangChain\\\\notion\\\\page16.md'}, page_content='# Page 16\\n\\nThis is the content of Notion page 16.\\n\\n## Section\\n\\n- Item A16\\n- Item B16\\n- Item C16'), Document(metadata={'source': 'F:\\\\Zain Data\\\\All programming language\\\\LangChain\\\\notion\\\\page17.md'}, page_content='# Page 17\\n\\nThis is the content of Notion page 17.\\n\\n## Section\\n\\n- Item A17\\n- Item B17\\n- Item C17'), Document(metadata={'source': 'F:\\\\Zain Data\\\\All programming language\\\\LangChain\\\\notion\\\\page18.md'}, page_content='# Page 18\\n\\nThis is the content of Notion page 18.\\n\\n## Section\\n\\n- Item A18\\n- Item B18\\n- Item C18'), Document(metadata={'source': 'F:\\\\Zain Data\\\\All programming language\\\\LangChain\\\\notion\\\\page19.md'}, page_content='# Page 19\\n\\nThis is the content of Notion page 19.\\n\\n## Section\\n\\n- Item A19\\n- Item B19\\n- Item C19'), Document(metadata={'source': 'F:\\\\Zain Data\\\\All programming language\\\\LangChain\\\\notion\\\\page2.md'}, page_content='# Page 2\\n\\nThis is the content of Notion page 2.\\n\\n## Section\\n\\n- Item A2\\n- Item B2\\n- Item C2'), Document(metadata={'source': 'F:\\\\Zain Data\\\\All programming language\\\\LangChain\\\\notion\\\\page20.md'}, page_content='# Page 20\\n\\nThis is the content of Notion page 20.\\n\\n## Section\\n\\n- Item A20\\n- Item B20\\n- Item C20'), Document(metadata={'source': 'F:\\\\Zain Data\\\\All programming language\\\\LangChain\\\\notion\\\\page3.md'}, page_content='# Page 3\\n\\nThis is the content of Notion page 3.\\n\\n## Section\\n\\n- Item A3\\n- Item B3\\n- Item C3'), Document(metadata={'source': 'F:\\\\Zain Data\\\\All programming language\\\\LangChain\\\\notion\\\\page4.md'}, page_content='# Page 4\\n\\nThis is the content of Notion page 4.\\n\\n## Section\\n\\n- Item A4\\n- Item B4\\n- Item C4'), Document(metadata={'source': 'F:\\\\Zain Data\\\\All programming language\\\\LangChain\\\\notion\\\\page5.md'}, page_content='# Page 5\\n\\nThis is the content of Notion page 5.\\n\\n## Section\\n\\n- Item A5\\n- Item B5\\n- Item C5'), Document(metadata={'source': 'F:\\\\Zain Data\\\\All programming language\\\\LangChain\\\\notion\\\\page6.md'}, page_content='# Page 6\\n\\nThis is the content of Notion page 6.\\n\\n## Section\\n\\n- Item A6\\n- Item B6\\n- Item C6'), Document(metadata={'source': 'F:\\\\Zain Data\\\\All programming language\\\\LangChain\\\\notion\\\\page7.md'}, page_content='# Page 7\\n\\nThis is the content of Notion page 7.\\n\\n## Section\\n\\n- Item A7\\n- Item B7\\n- Item C7'), Document(metadata={'source': 'F:\\\\Zain Data\\\\All programming language\\\\LangChain\\\\notion\\\\page8.md'}, page_content='# Page 8\\n\\nThis is the content of Notion page 8.\\n\\n## Section\\n\\n- Item A8\\n- Item B8\\n- Item C8'), Document(metadata={'source': 'F:\\\\Zain Data\\\\All programming language\\\\LangChain\\\\notion\\\\page9.md'}, page_content='# Page 9\\n\\nThis is the content of Notion page 9.\\n\\n## Section\\n\\n- Item A9\\n- Item B9\\n- Item C9')]\n"
     ]
    },
    {
     "data": {
      "text/plain": [
       "20"
      ]
     },
     "execution_count": 16,
     "metadata": {},
     "output_type": "execute_result"
    }
   ],
   "source": [
    "from langchain.text_splitter import CharacterTextSplitter\n",
    "from langchain.document_loaders import NotionDirectoryLoader\n",
    "\n",
    "# Load all markdown files from the Notion export folder\n",
    "loader = NotionDirectoryLoader(r\"F:\\Zain Data\\All programming language\\LangChain\\notion\")\n",
    "pages = loader.load()\n",
    "\n",
    "# Split into chunks\n",
    "text_splitter = CharacterTextSplitter(chunk_size=500, chunk_overlap=50)\n",
    "docs = text_splitter.split_documents(pages)\n",
    "\n",
    "# Print first chunk\n",
    "print(docs.page_content[0])\n",
    "\n"
   ]
  },
  {
   "cell_type": "code",
   "execution_count": 29,
   "id": "241a9531",
   "metadata": {},
   "outputs": [
    {
     "name": "stdout",
     "output_type": "stream",
     "text": [
      "page_content='# Page 1\n",
      "\n",
      "This is the content of Notion page 1.\n",
      "\n",
      "## Section\n",
      "\n",
      "- Item A1\n",
      "- Item B1\n",
      "- Item C1\n",
      "' metadata={'source': 'F:\\\\Zain Data\\\\All programming language\\\\LangChain\\\\notion\\\\page1.md'}\n"
     ]
    }
   ],
   "source": [
    "print(docs[0])"
   ]
  },
  {
   "cell_type": "code",
   "execution_count": 28,
   "id": "ebc25593",
   "metadata": {},
   "outputs": [
    {
     "name": "stdout",
     "output_type": "stream",
     "text": [
      "page_content='# Page 11\n",
      "\n",
      "This is the content of Notion page 11.\n",
      "\n",
      "## Section\n",
      "\n",
      "- Item A11\n",
      "- Item B11\n",
      "- Item C11\n",
      "' metadata={'source': 'F:\\\\Zain Data\\\\All programming language\\\\LangChain\\\\notion\\\\page11.md'}\n"
     ]
    }
   ],
   "source": [
    "print(docs[2])"
   ]
  },
  {
   "cell_type": "code",
   "execution_count": 17,
   "id": "f155cd11",
   "metadata": {},
   "outputs": [
    {
     "data": {
      "text/plain": [
       "20"
      ]
     },
     "execution_count": 17,
     "metadata": {},
     "output_type": "execute_result"
    }
   ],
   "source": [
    "len(docs)\n"
   ]
  },
  {
   "cell_type": "code",
   "execution_count": 18,
   "id": "b3b0fdfd",
   "metadata": {},
   "outputs": [
    {
     "data": {
      "text/plain": [
       "20"
      ]
     },
     "execution_count": 18,
     "metadata": {},
     "output_type": "execute_result"
    }
   ],
   "source": [
    "len(pages)"
   ]
  },
  {
   "cell_type": "code",
   "execution_count": 68,
   "id": "f3070756",
   "metadata": {},
   "outputs": [
    {
     "name": "stdout",
     "output_type": "stream",
     "text": [
      "['foo', ' bar', ' b', 'az', 'zy', 'foo']\n"
     ]
    }
   ],
   "source": [
    "from langchain.text_splitter import TokenTextSplitter\n",
    "\n",
    "# Initialize the TokenTextSplitter\n",
    "text_splitter = TokenTextSplitter(chunk_size=1, chunk_overlap=0)\n",
    "\n",
    "# Input text\n",
    "text1 = \"foo bar bazzyfoo\"\n",
    "\n",
    "# Split the text\n",
    "chunks = text_splitter.split_text(text1)\n",
    "\n",
    "# Print the output chunks\n",
    "print(chunks)\n"
   ]
  },
  {
   "cell_type": "code",
   "execution_count": 73,
   "id": "b65caedb",
   "metadata": {},
   "outputs": [
    {
     "name": "stdout",
     "output_type": "stream",
     "text": [
      "First Chunk Content: foo bar bazzyfoo qux quux\n",
      "Metadata for First Document: {'source': 'page1'}\n"
     ]
    }
   ],
   "source": [
    "from langchain.schema import Document\n",
    "from langchain.text_splitter import TokenTextSplitter\n",
    "\n",
    "# Example documents (pages)\n",
    "pages = [\n",
    "    Document(page_content=\"foo bar bazzyfoo qux quux corge grault garply waldo fred plugh xyzzy thud\", metadata={\"source\": \"page1\"}),\n",
    "    Document(page_content=\"alpha beta gamma delta epsilon zeta eta theta iota kappa lambda\", metadata={\"source\": \"page2\"})\n",
    "]\n",
    "\n",
    "# Initialize the TokenTextSplitter with chunk size of 10 tokens\n",
    "text_splitter = TokenTextSplitter(chunk_size=10, chunk_overlap=0)\n",
    "\n",
    "# Split the documents into chunks\n",
    "docs = text_splitter.split_documents(pages)\n",
    "\n",
    "# Access the first chunk and its metadata\n",
    "first_chunk = docs[0]\n",
    "first_metadata = pages[0].metadata\n",
    "\n",
    "# Output\n",
    "print(f\"First Chunk Content: {first_chunk.page_content}\")\n",
    "print(f\"Metadata for First Document: {first_metadata}\")\n"
   ]
  },
  {
   "cell_type": "code",
   "execution_count": 30,
   "id": "fb38a4e8",
   "metadata": {},
   "outputs": [
    {
     "name": "stdout",
     "output_type": "stream",
     "text": [
      "page_content='# Page 1\n",
      "\n",
      "This is the content of Notion page 1.\n",
      "\n",
      "## Section\n",
      "\n",
      "- Item A1\n",
      "- Item B1\n",
      "- Item C1\n",
      "' metadata={'source': 'F:\\\\Zain Data\\\\All programming language\\\\LangChain\\\\notion\\\\page1.md'}\n"
     ]
    }
   ],
   "source": [
    "print(pages[0])"
   ]
  },
  {
   "cell_type": "code",
   "execution_count": 75,
   "id": "f17e95d1",
   "metadata": {},
   "outputs": [
    {
     "data": {
      "text/plain": [
       "{'source': 'page1'}"
      ]
     },
     "execution_count": 75,
     "metadata": {},
     "output_type": "execute_result"
    }
   ],
   "source": [
    "pages[0].metadata"
   ]
  },
  {
   "cell_type": "code",
   "execution_count": 76,
   "id": "2a7d977f",
   "metadata": {},
   "outputs": [],
   "source": [
    "#Context aware splitting¶\n",
    "#Chunking aims to keep text with common context together.\n",
    "\n",
    "#A text splitting often uses sentences or other delimiters to keep related text together but many documents (such as Markdown) have structure (headers) that can be explicitly used in splitting.\n",
    "\n",
    "#We can use MarkdownHeaderTextSplitter to preserve header metadata in our chunks, as show below.\n",
    "from langchain.document_loaders import NotionDirectoryLoader\n",
    "from langchain.text_splitter import MarkdownHeaderTextSplitter"
   ]
  },
  {
   "cell_type": "code",
   "execution_count": 77,
   "id": "3dd13491",
   "metadata": {},
   "outputs": [],
   "source": [
    "markdown_document = \"\"\"# Title\\n\\n \\\n",
    "## Chapter 1\\n\\n \\\n",
    "Hi this is Jim\\n\\n Hi this is Joe\\n\\n \\\n",
    "### Section \\n\\n \\\n",
    "Hi this is Lance \\n\\n \n",
    "## Chapter 2\\n\\n \\\n",
    "Hi this is Molly\"\"\""
   ]
  },
  {
   "cell_type": "code",
   "execution_count": 78,
   "id": "1c2da2b7",
   "metadata": {},
   "outputs": [],
   "source": [
    "headers_to_split_on = [\n",
    "    (\"#\", \"Header 1\"),\n",
    "    (\"##\", \"Header 2\"),\n",
    "    (\"###\", \"Header 3\"),\n",
    "]"
   ]
  },
  {
   "cell_type": "code",
   "execution_count": 79,
   "id": "c9d4e98c",
   "metadata": {},
   "outputs": [],
   "source": [
    "markdown_splitter = MarkdownHeaderTextSplitter(\n",
    "    headers_to_split_on=headers_to_split_on\n",
    ")\n",
    "md_header_splits = markdown_splitter.split_text(markdown_document)"
   ]
  },
  {
   "cell_type": "code",
   "execution_count": 80,
   "id": "4126b734",
   "metadata": {},
   "outputs": [
    {
     "data": {
      "text/plain": [
       "Document(metadata={'Header 1': 'Title', 'Header 2': 'Chapter 1'}, page_content='Hi this is Jim  \\nHi this is Joe')"
      ]
     },
     "execution_count": 80,
     "metadata": {},
     "output_type": "execute_result"
    }
   ],
   "source": [
    "md_header_splits[0]"
   ]
  },
  {
   "cell_type": "code",
   "execution_count": 81,
   "id": "9d797f39",
   "metadata": {},
   "outputs": [
    {
     "data": {
      "text/plain": [
       "Document(metadata={'Header 1': 'Title', 'Header 2': 'Chapter 1', 'Header 3': 'Section'}, page_content='Hi this is Lance')"
      ]
     },
     "execution_count": 81,
     "metadata": {},
     "output_type": "execute_result"
    }
   ],
   "source": [
    "md_header_splits[1]"
   ]
  },
  {
   "cell_type": "code",
   "execution_count": 32,
   "id": "78bac4d8",
   "metadata": {},
   "outputs": [
    {
     "data": {
      "text/plain": [
       "Document(metadata={'Header 1': 'Page 10'}, page_content='This is the content of Notion page 10.')"
      ]
     },
     "execution_count": 32,
     "metadata": {},
     "output_type": "execute_result"
    }
   ],
   "source": [
    "md_header_splits[2]"
   ]
  },
  {
   "cell_type": "code",
   "execution_count": 10,
   "id": "9ff22c06",
   "metadata": {},
   "outputs": [
    {
     "name": "stdout",
     "output_type": "stream",
     "text": [
      "page_content='This is the content of Notion page 1.' metadata={'Header 1': 'Page 1'}\n"
     ]
    }
   ],
   "source": [
    "from langchain.document_loaders import NotionDirectoryLoader\n",
    "from langchain.text_splitter import MarkdownHeaderTextSplitter\n",
    "\n",
    "# Step 1: Load Notion .md files\n",
    "loader = NotionDirectoryLoader(r\"F:\\Zain Data\\All programming language\\LangChain\\notion\")\n",
    "docs = loader.load()\n",
    "\n",
    "# Step 2: Join the content from all pages\n",
    "txt = ' '.join([d.page_content for d in docs])\n",
    "\n",
    "# Step 3: Define headers and initialize splitter\n",
    "headers_to_split_on = [\n",
    "    (\"#\", \"Header 1\"),\n",
    "    (\"##\", \"Header 2\"),\n",
    "]\n",
    "markdown_splitter = MarkdownHeaderTextSplitter(headers_to_split_on=headers_to_split_on)\n",
    "\n",
    "# Step 4: Split the text by markdown headers\n",
    "md_header_splits = markdown_splitter.split_text(txt)\n",
    "\n",
    "# Step 5: Output first split section (optional)\n",
    "print(md_header_splits[0])\n"
   ]
  },
  {
   "cell_type": "code",
   "execution_count": 12,
   "id": "c60a4ca9",
   "metadata": {},
   "outputs": [
    {
     "data": {
      "text/plain": [
       "Document(metadata={'Header 1': 'Page 1'}, page_content='This is the content of Notion page 1.')"
      ]
     },
     "execution_count": 12,
     "metadata": {},
     "output_type": "execute_result"
    }
   ],
   "source": [
    "#output optional ogf above use any\n",
    "md_header_splits[0]"
   ]
  },
  {
   "cell_type": "code",
   "execution_count": 8,
   "id": "7c450984",
   "metadata": {},
   "outputs": [
    {
     "data": {
      "text/plain": [
       "Document(metadata={'Header 1': 'Page 1', 'Header 2': 'Section'}, page_content='- Item A1\\n- Item B1\\n- Item C1')"
      ]
     },
     "execution_count": 8,
     "metadata": {},
     "output_type": "execute_result"
    }
   ],
   "source": [
    "#output optional ogf above use any\n",
    "md_header_splits[1]"
   ]
  }
 ],
 "metadata": {
  "kernelspec": {
   "display_name": "venv",
   "language": "python",
   "name": "python3"
  },
  "language_info": {
   "codemirror_mode": {
    "name": "ipython",
    "version": 3
   },
   "file_extension": ".py",
   "mimetype": "text/x-python",
   "name": "python",
   "nbconvert_exporter": "python",
   "pygments_lexer": "ipython3",
   "version": "3.9.0"
  }
 },
 "nbformat": 4,
 "nbformat_minor": 5
}
